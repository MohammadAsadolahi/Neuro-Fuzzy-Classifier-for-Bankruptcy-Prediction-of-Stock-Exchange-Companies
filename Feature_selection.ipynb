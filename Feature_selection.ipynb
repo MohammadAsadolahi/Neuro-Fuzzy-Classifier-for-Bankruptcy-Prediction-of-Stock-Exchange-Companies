{
  "cells": [
    {
      "cell_type": "code",
      "execution_count": null,
      "metadata": {
        "id": "BtUIvrUYSxEn"
      },
      "outputs": [],
      "source": [
        "import pandas as pd\n",
        "import numpy as np\n",
        "from sklearn.linear_model import LogisticRegression\n",
        "from sklearn.neural_network import MLPClassifier\n",
        "from sklearn.feature_selection import SequentialFeatureSelector\n",
        "df =pd.read_csv(\"Bourse.dat\", sep=\"|\", names=['data'])\n",
        "df = df['data'].str.split(n=20, expand=True)\n",
        "df=df.astype(float)\n",
        "df -= df.min()\n",
        "df /= df.max()"
      ]
    },
    {
      "cell_type": "code",
      "source": [
        "data=df.to_numpy()\n",
        "np.random.shuffle(data)\n",
        "X=np.squeeze(np.delete(data,[20],axis=1))\n",
        "y=np.array(data[:,20], dtype=np.int8)\n",
        "Xtrain=X[:115]\n",
        "Xtest=X[115:]\n",
        "Ytrain=y[:115]\n",
        "Ytest=y[115:]"
      ],
      "metadata": {
        "id": "tsMwVyPS4f6j"
      },
      "execution_count": null,
      "outputs": []
    },
    {
      "cell_type": "code",
      "source": [
        "nnModel=MLPClassifier(hidden_layer_sizes=(7),alpha=1e-4,solver='adam',max_iter=100000,n_iter_no_change=1000,verbose=False,learning_rate_init=0.1)#\n",
        "nnModel.fit(Xtrain,Ytrain)\n",
        "print(\"training score\",nnModel.score(Xtrain,Ytrain))\n",
        "print(\"validation score\",nnModel.score(Xtest,Ytest))\n",
        "nnModel.predict(Xtest)"
      ],
      "metadata": {
        "colab": {
          "base_uri": "https://localhost:8080/"
        },
        "id": "BBUWo8m7Ch4f",
        "outputId": "4614d92b-3983-430b-f284-e1ba9c73de5a"
      },
      "execution_count": null,
      "outputs": [
        {
          "output_type": "stream",
          "name": "stdout",
          "text": [
            "training score 0.9391304347826087\n",
            "validation score 0.8571428571428571\n"
          ]
        },
        {
          "output_type": "execute_result",
          "data": {
            "text/plain": [
              "array([1, 0, 0, 1, 1, 0, 0, 1, 0, 1, 1, 1, 1, 1, 1, 0, 1, 1, 0, 0, 1, 0,\n",
              "       1, 1, 0, 1, 0, 0], dtype=int8)"
            ]
          },
          "metadata": {},
          "execution_count": 6
        }
      ]
    },
    {
      "cell_type": "markdown",
      "source": [
        "# **feature selection**"
      ],
      "metadata": {
        "id": "zjZMV47eI292"
      }
    },
    {
      "cell_type": "code",
      "source": [
        "sfs_selector = SequentialFeatureSelector(estimator=MLPClassifier(hidden_layer_sizes=(7),alpha=1e-4,solver='adam',max_iter=100000,n_iter_no_change=1000,verbose=False,learning_rate_init=0.1), n_features_to_select =3, direction ='backward')\n",
        "sfs_selector.fit(X, y)\n",
        "np.array([i for i in range(20)])[sfs_selector.get_support()]"
      ],
      "metadata": {
        "colab": {
          "base_uri": "https://localhost:8080/"
        },
        "id": "Bg-JMwX9DNmK",
        "outputId": "ccc51c98-8b23-4bcf-dd53-620e9fdfb4a6"
      },
      "execution_count": null,
      "outputs": [
        {
          "output_type": "execute_result",
          "data": {
            "text/plain": [
              "array([ 4, 10, 12])"
            ]
          },
          "metadata": {},
          "execution_count": 7
        }
      ]
    },
    {
      "cell_type": "markdown",
      "source": [
        "# **# model validation with selected features**"
      ],
      "metadata": {
        "id": "kzC8LinQ34Ib"
      }
    },
    {
      "cell_type": "code",
      "source": [
        "featureList=[10, 11, 16]\n",
        "scores=[]\n",
        "for j in range(100):\n",
        "  data=df.to_numpy()\n",
        "  np.random.shuffle(data)\n",
        "  X=np.delete(data,[f for f in range(21) if f not in featureList],axis=1)\n",
        "  y=np.array(data[:,20], dtype=np.int8)\n",
        "  Xtrain=X[:123]\n",
        "  Xtest=X[123:]\n",
        "  Ytrain=y[:123]\n",
        "  Ytest=y[123:]\n",
        "  nnModel=MLPClassifier(hidden_layer_sizes=(7),alpha=1e-4,solver='adam',max_iter=100000,n_iter_no_change=1000,verbose=False,learning_rate_init=0.1)#\n",
        "  nnModel.fit(Xtrain,Ytrain)\n",
        "  scores.append(nnModel.score(Xtest,Ytest))\n",
        "print(np.sum(np.array(scores)))"
      ],
      "metadata": {
        "colab": {
          "base_uri": "https://localhost:8080/"
        },
        "id": "PiB79bIVc6Sz",
        "outputId": "d15773f1-acac-4531-e5f3-29cf063557c4"
      },
      "execution_count": null,
      "outputs": [
        {
          "output_type": "stream",
          "name": "stdout",
          "text": [
            "86.5\n"
          ]
        }
      ]
    }
  ],
  "metadata": {
    "colab": {
      "collapsed_sections": [],
      "name": "Feature selection.ipynb",
      "provenance": []
    },
    "kernelspec": {
      "display_name": "Python 3",
      "name": "python3"
    },
    "language_info": {
      "name": "python"
    }
  },
  "nbformat": 4,
  "nbformat_minor": 0
}