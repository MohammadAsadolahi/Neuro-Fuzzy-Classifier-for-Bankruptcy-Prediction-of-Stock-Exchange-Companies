{
  "nbformat": 4,
  "nbformat_minor": 0,
  "metadata": {
    "colab": {
      "name": "f dem.ipynb",
      "provenance": [],
      "collapsed_sections": []
    },
    "kernelspec": {
      "name": "python3",
      "display_name": "Python 3"
    },
    "language_info": {
      "name": "python"
    }
  },
  "cells": [
    {
      "cell_type": "code",
      "source": [
        "import pandas as pd\n",
        "import numpy as np\n",
        "import tensorflow as tf\n",
        "import matplotlib.pyplot as plt\n",
        "import itertools\n",
        "from sklearn.metrics import confusion_matrix\n",
        "from sklearn.linear_model import LogisticRegression\n",
        "from sklearn.neural_network import MLPClassifier\n",
        "from sklearn.feature_selection import SequentialFeatureSelector\n",
        "df =pd.read_csv(\"Bourse.dat\", sep=\"|\", names=['data'])\n",
        "df = df['data'].str.split(n=20, expand=True)\n",
        "df=df.astype(float)\n",
        "df -= df.min()\n",
        "df /= df.max()\n",
        "featureList=[10, 11, 16]\n",
        "data=df.to_numpy()\n",
        "np.random.shuffle(data)\n",
        "X=np.delete(data,[f for f in range(21) if f not in featureList],axis=1)\n",
        "y=np.array(data[:,20], dtype=np.int8)\n",
        "Xtrain=X[:120]\n",
        "Xtest=X[120:]\n",
        "Ytrain=y[:120]\n",
        "Ytest=y[120:]"
      ],
      "metadata": {
        "id": "2zOCK6QJsnPE"
      },
      "execution_count": null,
      "outputs": []
    },
    {
      "cell_type": "code",
      "source": [
        "def make_confusion_matrix(y_true, y_pred,plotTitle=\"Confusion Matrix\", classes=None, figsize=(8, 8), text_size=15, norm=False, savefig=False): \n",
        "\n",
        "  cm = confusion_matrix(y_true, y_pred)\n",
        "  cm_norm = cm.astype(\"float\") / cm.sum(axis=1)[:, np.newaxis] # normalize it\n",
        "  n_classes = cm.shape[0] # find the number of classes we're dealing with\n",
        "\n",
        "  # Plot the figure and make it pretty\n",
        "  fig, ax = plt.subplots(figsize=figsize)\n",
        "  cax = ax.matshow(cm, cmap=plt.cm.Blues) # colors will represent how 'correct' a class is, darker == better\n",
        "  fig.colorbar(cax)\n",
        "\n",
        "  # Are there a list of classes?\n",
        "  if classes:\n",
        "    labels = classes\n",
        "  else:\n",
        "    labels = np.arange(cm.shape[0])\n",
        "  \n",
        "  # Label the axes\n",
        "  ax.set(title=plotTitle,\n",
        "         xlabel=\"Predicted label\",\n",
        "         ylabel=\"True label\",\n",
        "         xticks=np.arange(n_classes), # create enough axis slots for each class\n",
        "         yticks=np.arange(n_classes), \n",
        "         xticklabels=labels, # axes will labeled with class names (if they exist) or ints\n",
        "         yticklabels=labels)\n",
        "  \n",
        "  # Make x-axis labels appear on bottom\n",
        "  ax.xaxis.set_label_position(\"bottom\")\n",
        "  ax.xaxis.tick_bottom()\n",
        "\n",
        "  # Set the threshold for different colors\n",
        "  threshold = (cm.max() + cm.min()) / 2.\n",
        "\n",
        "  # Plot the text on each cell\n",
        "  for i, j in itertools.product(range(cm.shape[0]), range(cm.shape[1])):\n",
        "    if norm:\n",
        "      plt.text(j, i, f\"{cm[i, j]} ({cm_norm[i, j]*100:.1f}%)\",\n",
        "              horizontalalignment=\"center\",\n",
        "              color=\"white\" if cm[i, j] > threshold else \"black\",\n",
        "              size=text_size)\n",
        "    else:\n",
        "      plt.text(j, i, f\"{cm[i, j]}\",\n",
        "              horizontalalignment=\"center\",\n",
        "              color=\"white\" if cm[i, j] > threshold else \"black\",\n",
        "              size=text_size)\n",
        "\n",
        "  # Save the figure to the current working directory\n",
        "  if savefig:\n",
        "    fig.savefig(\"confusion_matrix.png\",dpi=100)\n"
      ],
      "metadata": {
        "id": "1DROVU3cz8mC"
      },
      "execution_count": null,
      "outputs": []
    },
    {
      "cell_type": "code",
      "source": [
        "def performanceDetails(Ytrain,result):\n",
        "  confusion=confusion_matrix(Ytrain,result)\n",
        "  accuracy=(confusion[1][1]+confusion[0][0])/np.sum(confusion)\n",
        "  percision=confusion[1][1]/(confusion[1][1]+confusion[1][0])\n",
        "  recall=confusion[1][1]/(confusion[1][1]+confusion[0][1])\n",
        "  F1=2*confusion[1][1]/(2*confusion[1][1]+confusion[0][1]+confusion[1][0])\n",
        "  return accuracy,percision,recall,F1"
      ],
      "metadata": {
        "id": "2nt3foR37m-a"
      },
      "execution_count": null,
      "outputs": []
    },
    {
      "cell_type": "code",
      "execution_count": null,
      "metadata": {
        "id": "lFwm7JvM54-O"
      },
      "outputs": [],
      "source": [
        "class FuzzyClassifier:\n",
        "  def __init__(self):\n",
        "    self.fuzzifiers_zigma=tf.Variable([[1],[1],[1],[1],[1],[1]],dtype=tf.float32)\n",
        "    self.fuzzifiers_center=tf.Variable(tf.random.uniform([6,1],minval=0,maxval=1),dtype=tf.float32)\n",
        "    self.weiths=tf.Variable(tf.random.uniform([8,1],minval=-1,maxval=1),dtype=tf.float32)\n",
        "  def gaussian(self,x,center,sigma):\n",
        "    return tf.divide(tf.exp(-tf.pow(tf.subtract(center,x),2)),sigma)\n",
        "  def feedforward(self,X):\n",
        "    mu=self.gaussian(X,self.fuzzifiers_center,self.fuzzifiers_zigma)\n",
        "    t1=tf.multiply(tf.multiply(mu[0],mu[1]),mu[2])\n",
        "    t2=tf.multiply(tf.multiply(mu[0],mu[1]),mu[5])\n",
        "    t3=tf.multiply(tf.multiply(mu[0],mu[4]),mu[2])\n",
        "    t4=tf.multiply(tf.multiply(mu[0],mu[4]),mu[5])\n",
        "    t5=tf.multiply(tf.multiply(mu[3],mu[1]),mu[2])\n",
        "    t6=tf.multiply(tf.multiply(mu[3],mu[1]),mu[5])\n",
        "    t7=tf.multiply(tf.multiply(mu[3],mu[4]),mu[2])\n",
        "    t8=tf.multiply(tf.multiply(mu[3],mu[4]),mu[5])\n",
        "    tSum=tf.add(t1,tf.add(t2,tf.add(t3,tf.add(t4,tf.add(t5,tf.add(t6,tf.add(t7,t8)))))))\n",
        "    t1=tf.divide(t1,tSum)\n",
        "    t2=tf.divide(t2,tSum)\n",
        "    t3=tf.divide(t3,tSum)\n",
        "    t4=tf.divide(t4,tSum)\n",
        "    t5=tf.divide(t5,tSum)\n",
        "    t6=tf.divide(t6,tSum)\n",
        "    t7=tf.divide(t7,tSum)\n",
        "    t8=tf.divide(t8,tSum)\n",
        "    return tf.add(tf.multiply(t1,self.weiths[0]),\n",
        "                  tf.add(tf.multiply(t2,self.weiths[1]),\n",
        "                  tf.add(tf.multiply(t3,self.weiths[2]),\n",
        "                  tf.add(tf.multiply(t4,self.weiths[3]),\n",
        "                  tf.add(tf.multiply(t5,self.weiths[4]),\n",
        "                  tf.add(tf.multiply(t6,self.weiths[5]),\n",
        "                  tf.add(tf.multiply(t7,self.weiths[6]),\n",
        "                  tf.multiply(t8,self.weiths[7]))))))))\n",
        "  def predict(self,X):\n",
        "    result=self.feedforward(X)\n",
        "    result=result.numpy()\n",
        "    result[result>=0.5]=1\n",
        "    result[result<0.5]=0\n",
        "    return result\n",
        "  def train(self,X,Y,epoch,lr=0.005,detail=False):\n",
        "    for i in range(epoch):\n",
        "      with tf.GradientTape() as tape:\n",
        "        cost=tf.nn.sigmoid_cross_entropy_with_logits(labels=Y, logits=self.feedforward(X))\n",
        "        gradients=tape.gradient(cost,[self.fuzzifiers_center,self.fuzzifiers_zigma,self.weiths])\n",
        "        self.fuzzifiers_center.assign_sub(gradients[0]*lr)\n",
        "        self.fuzzifiers_zigma.assign_sub(gradients[1]*lr)\n",
        "        self.weiths.assign_sub(gradients[2]*lr)\n",
        "      if (i%50)==0 and detail:\n",
        "        lr*=0.9\n",
        "        print(f\"epoch:{i}  loss:\",np.sum(cost.numpy()),f\" lr:{lr}\")"
      ]
    },
    {
      "cell_type": "code",
      "source": [
        "fModel=FuzzyClassifier()\n",
        "fModel.train(np.tile(Xtrain.T, (2, 1)),np.array(Ytrain,dtype=np.float32),2000,detail=True)"
      ],
      "metadata": {
        "id": "IW2v6Z0Q9kvw",
        "colab": {
          "base_uri": "https://localhost:8080/"
        },
        "outputId": "44f2a383-bc20-4118-9ca4-bea9a5477999"
      },
      "execution_count": null,
      "outputs": [
        {
          "output_type": "stream",
          "name": "stdout",
          "text": [
            "epoch:0  loss: 84.20781  lr:0.0045000000000000005\n",
            "epoch:50  loss: 80.96646  lr:0.004050000000000001\n",
            "epoch:100  loss: 76.77348  lr:0.0036450000000000007\n",
            "epoch:150  loss: 69.740524  lr:0.003280500000000001\n",
            "epoch:200  loss: 62.612083  lr:0.002952450000000001\n",
            "epoch:250  loss: 56.28959  lr:0.002657205000000001\n",
            "epoch:300  loss: 49.982548  lr:0.002391484500000001\n",
            "epoch:350  loss: 47.23297  lr:0.002152336050000001\n",
            "epoch:400  loss: 53.821205  lr:0.001937102445000001\n",
            "epoch:450  loss: 51.198486  lr:0.001743392200500001\n",
            "epoch:500  loss: 50.253883  lr:0.001569052980450001\n",
            "epoch:550  loss: 42.592686  lr:0.0014121476824050009\n",
            "epoch:600  loss: 42.08398  lr:0.0012709329141645008\n",
            "epoch:650  loss: 46.49839  lr:0.0011438396227480508\n",
            "epoch:700  loss: 41.28631  lr:0.0010294556604732458\n",
            "epoch:750  loss: 39.740074  lr:0.0009265100944259213\n",
            "epoch:800  loss: 40.598087  lr:0.0008338590849833291\n",
            "epoch:850  loss: 42.44212  lr:0.0007504731764849962\n",
            "epoch:900  loss: 41.799534  lr:0.0006754258588364966\n",
            "epoch:950  loss: 41.06481  lr:0.000607883272952847\n",
            "epoch:1000  loss: 40.46122  lr:0.0005470949456575623\n",
            "epoch:1050  loss: 39.934006  lr:0.0004923854510918061\n",
            "epoch:1100  loss: 39.475513  lr:0.00044314690598262546\n",
            "epoch:1150  loss: 38.902107  lr:0.0003988322153843629\n",
            "epoch:1200  loss: 38.602776  lr:0.0003589489938459266\n",
            "epoch:1250  loss: 38.58452  lr:0.00032305409446133396\n",
            "epoch:1300  loss: 38.571133  lr:0.00029074868501520056\n",
            "epoch:1350  loss: 38.560066  lr:0.00026167381651368053\n",
            "epoch:1400  loss: 38.550476  lr:0.0002355064348623125\n",
            "epoch:1450  loss: 38.542007  lr:0.00021195579137608126\n",
            "epoch:1500  loss: 38.53446  lr:0.00019076021223847313\n",
            "epoch:1550  loss: 38.527702  lr:0.00017168419101462582\n",
            "epoch:1600  loss: 38.52165  lr:0.00015451577191316325\n",
            "epoch:1650  loss: 38.51622  lr:0.00013906419472184693\n",
            "epoch:1700  loss: 38.51134  lr:0.00012515777524966224\n",
            "epoch:1750  loss: 38.50697  lr:0.00011264199772469603\n",
            "epoch:1800  loss: 38.50303  lr:0.00010137779795222643\n",
            "epoch:1850  loss: 38.499493  lr:9.124001815700379e-05\n",
            "epoch:1900  loss: 38.496315  lr:8.211601634130342e-05\n",
            "epoch:1950  loss: 38.49347  lr:7.390441470717308e-05\n"
          ]
        }
      ]
    },
    {
      "cell_type": "code",
      "source": [
        "result=fModel.predict(np.tile(Xtrain.T, (2, 1)))\n",
        "make_confusion_matrix(Ytrain,result,plotTitle=\"Train data Confusion Matrix\")\n",
        "accuracy,percision,recall,F1=performanceDetails(Ytrain,result)\n",
        "print(f\"for Train Data accuracy:{accuracy} percision:{percision} recall:{recall} F1:{F1}\")"
      ],
      "metadata": {
        "colab": {
          "base_uri": "https://localhost:8080/",
          "height": 484
        },
        "id": "BK8PMDKQO4XI",
        "outputId": "a29199df-00a6-4e0c-f27e-9bb0e032c863"
      },
      "execution_count": null,
      "outputs": [
        {
          "output_type": "stream",
          "name": "stdout",
          "text": [
            "for Train Data accuracy:0.8916666666666667 percision:0.85 recall:0.9272727272727272 F1:0.8869565217391304\n"
          ]
        },
        {
          "output_type": "display_data",
          "data": {
            "image/png": "[encoded data removed]",
            "text/plain": [
              "<Figure size 576x576 with 2 Axes>"
            ]
          },
          "metadata": {
            "needs_background": "light"
          }
        }
      ]
    },
    {
      "cell_type": "code",
      "source": [
        "result=fModel.predict(np.tile(Xtest.T, (2, 1)))\n",
        "make_confusion_matrix(Ytest,result,plotTitle=\"Test Data Confusion Matrix\")\n",
        "accuracy,percision,recall,F1=performanceDetails(Ytest,result)\n",
        "print(f\"for Test Data accuracy:{accuracy} percision:{percision} recall:{recall} F1:{F1}\")\n"
      ],
      "metadata": {
        "colab": {
          "base_uri": "https://localhost:8080/",
          "height": 484
        },
        "id": "UeR_u7zczN1F",
        "outputId": "85211894-5f52-40eb-bc3f-5dccf842d658"
      },
      "execution_count": null,
      "outputs": [
        {
          "output_type": "stream",
          "name": "stdout",
          "text": [
            "for Test Data accuracy:0.8695652173913043 percision:0.9166666666666666 recall:0.8461538461538461 F1:0.88\n"
          ]
        },
        {
          "output_type": "display_data",
          "data": {
            "image/png": "[encoded data removed]",
            "text/plain": [
              "<Figure size 576x576 with 2 Axes>"
            ]
          },
          "metadata": {
            "needs_background": "light"
          }
        }
      ]
    },
    {
      "cell_type": "code",
      "source": [
        ""
      ],
      "metadata": {
        "id": "1Zfyf3eIAUa3"
      },
      "execution_count": null,
      "outputs": []
    }
  ]
}